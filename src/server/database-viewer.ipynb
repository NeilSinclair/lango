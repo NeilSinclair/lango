{
 "cells": [
  {
   "cell_type": "code",
   "execution_count": 2,
   "metadata": {},
   "outputs": [],
   "source": [
    "import sqlite3\n",
    "import pandas as pd"
   ]
  },
  {
   "cell_type": "code",
   "execution_count": 3,
   "metadata": {},
   "outputs": [],
   "source": [
    "conn = sqlite3.connect('instance/mydatabase.db')"
   ]
  },
  {
   "cell_type": "code",
   "execution_count": 4,
   "metadata": {},
   "outputs": [
    {
     "data": {
      "text/plain": [
       "<sqlite3.Cursor at 0x7fa2a92d0ce0>"
      ]
     },
     "execution_count": 4,
     "metadata": {},
     "output_type": "execute_result"
    }
   ],
   "source": [
    "cursor = conn.cursor()\n",
    "cursor.execute(\"SELECT * from word_dict;\")"
   ]
  },
  {
   "cell_type": "code",
   "execution_count": 5,
   "metadata": {},
   "outputs": [
    {
     "data": {
      "text/plain": [
       "[(1, 'noun', 'die', 'Wohnung', 'apartment, flat'),\n",
       " (2, 'noun', 'die', 'Abrechnung', 'settlement, billing, account, reckoning'),\n",
       " (3, 'noun', 'die', 'Abwechslung', 'variety, change, alternation'),\n",
       " (4, 'verb', '', 'angenommen', 'assumed, accepted'),\n",
       " (5, 'verb', '', 'wechseln', 'to change, to exchange, to switch'),\n",
       " (6, 'verb', '', 'auftauchen', 'to emerge, to surface, to appear'),\n",
       " (7, 'verb', '', 'austauschen', 'to exchange, to replace'),\n",
       " (8, 'noun', 'das', 'Ehrenamt', 'voluntary work, volunteer service'),\n",
       " (9, 'adverb', '', 'tatsächlich', 'actually, indeed'),\n",
       " (10, 'adjective', '', 'steif', 'stiff, rigid'),\n",
       " (11, 'verb', '', 'befehle', 'command, order'),\n",
       " (12, 'adverb', '', 'durcheinander', 'confused, jumbled, in a mess'),\n",
       " (13, 'adverb', '', 'absichtlich', 'intentionally, deliberately'),\n",
       " (14, 'adjective', '', 'knapp', 'scarce, tight, close, narrowly, just'),\n",
       " (15, 'verb', '', 'klappen', 'to work, to function, to succeed'),\n",
       " (16, 'verb', '', 'zurückkehren', 'to return, to go back'),\n",
       " (17, 'adjective', '', 'gegenseitig', 'mutual, reciprocal'),\n",
       " (18, 'noun', 'der', 'Klang', 'sound, tone'),\n",
       " (19, 'verb', '', 'gehorchen', 'to obey'),\n",
       " (20, 'verb', '', 'gehalten', 'held, kept, maintained'),\n",
       " (21, 'verb', '', 'unterbricht', 'interrupts'),\n",
       " (22, 'adverb', '', 'hinüber', 'over, across'),\n",
       " (23, 'noun', 'der', 'Blödsinn', 'nonsense, rubbish'),\n",
       " (24, 'verb', '', 'schimpft', 'scolds, berates, curses'),\n",
       " (25, 'adverb', '', 'zwar', 'indeed, certainly'),\n",
       " (26, 'verb', '', 'angriffen', 'to attack'),\n",
       " (27, 'adjective', '', 'kerzengerader', 'perfectly straight'),\n",
       " (28, 'adjective', '', 'mitgerissen', 'carried away, swept along'),\n",
       " (29, 'adjective', '', 'beeindruckt', 'impressed')]"
      ]
     },
     "execution_count": 5,
     "metadata": {},
     "output_type": "execute_result"
    }
   ],
   "source": [
    "table = cursor.fetchall()\n",
    "\n",
    "table"
   ]
  },
  {
   "cell_type": "code",
   "execution_count": null,
   "metadata": {},
   "outputs": [],
   "source": []
  }
 ],
 "metadata": {
  "kernelspec": {
   "display_name": "text-reader",
   "language": "python",
   "name": "python3"
  },
  "language_info": {
   "codemirror_mode": {
    "name": "ipython",
    "version": 3
   },
   "file_extension": ".py",
   "mimetype": "text/x-python",
   "name": "python",
   "nbconvert_exporter": "python",
   "pygments_lexer": "ipython3",
   "version": "3.8.5"
  },
  "orig_nbformat": 4
 },
 "nbformat": 4,
 "nbformat_minor": 2
}
